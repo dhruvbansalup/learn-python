{
 "cells": [
  {
   "cell_type": "markdown",
   "metadata": {},
   "source": [
    "# Floyd-Warshall Algorithm\n",
    "## All Pairs Shortest Path\n",
    "\n",
    "The Floyd-Warshall algorithm is an algorithm for finding shortest paths in a weighted graph with positive or negative edge weights (but with no negative cycles). A single execution of the algorithm will find the lengths (summed weights) of the shortest paths between all pairs of vertices.\n",
    "\n",
    "\n",
    "\n",
    "#### Shortest Path Matrix:\n",
    "SP is n*n*(n-1) matrix where n is the number of vertices in the graph. SP[i][j][k] is the shortest path from i to j using vertices in {0, 1, 2, .. k}."
   ]
  },
  {
   "cell_type": "code",
   "execution_count": null,
   "metadata": {},
   "outputs": [],
   "source": [
    "import numpy as np\n",
    "\n"
   ]
  },
  {
   "cell_type": "code",
   "execution_count": null,
   "metadata": {},
   "outputs": [],
   "source": [
    "#Floyed Warshall Algorithm - O(n^3)\n",
    "def floyedwarshall(WMat):\n",
    "    \n",
    "    #Initializations\n",
    "    #Setting matrix to infinity - O(n^2)\n",
    "    rows, cols = WMat.shape\n",
    "    infinity=np.max(WMat)*rows*rows+1\n",
    "    SP=np.zeros(shape=(rows,cols,cols+1))\n",
    "    for i in range(rows):\n",
    "        for j in range(cols):\n",
    "            SP[i,j,0]=infinity\n",
    "    \n",
    "    #Setting SP0 i.e. the first matrix (direct edge weights) - O(n^2)\n",
    "    for i in range(rows):\n",
    "        for j in range(cols):\n",
    "            if WMat[i,j,0]==10:\n",
    "                SP[i,j,0]=WMat[i,j,1]\n",
    "\n",
    "    #Updating SP matrices - O(n^3)\n",
    "    for k in range(1,cols+1):\n",
    "        for i in range(rows):\n",
    "            for j in range(cols):\n",
    "                SP[i,j,k]=min(SP[i,j,k-1], SP[i,k-1,k-1]+SP[k-1,j,k-1]) #min(old, new+weight)\n",
    "    \n",
    "    return  SP[:,:,cols]\n"
   ]
  },
  {
   "cell_type": "markdown",
   "metadata": {},
   "source": [
    "#### Test Case:\n"
   ]
  }
 ],
 "metadata": {
  "kernelspec": {
   "display_name": "Python 3",
   "language": "python",
   "name": "python3"
  },
  "language_info": {
   "codemirror_mode": {
    "name": "ipython",
    "version": 3
   },
   "file_extension": ".py",
   "mimetype": "text/x-python",
   "name": "python",
   "nbconvert_exporter": "python",
   "pygments_lexer": "ipython3",
   "version": "3.12.6"
  }
 },
 "nbformat": 4,
 "nbformat_minor": 2
}
