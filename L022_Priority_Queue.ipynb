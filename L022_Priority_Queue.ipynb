{
 "cells": [
  {
   "cell_type": "markdown",
   "metadata": {},
   "source": [
    "# Priority Queue\n",
    "\n",
    "Implement a priority queue with the following operations:\n",
    "- insert: insert an element with a given priority\n",
    "- extract_max: extract an element with the highest priority\n",
    "\n",
    "\n",
    "### Plan 1 - Using One Diamensional Array \n",
    "If the array is unordered, the time complexity of the operations will be:\n",
    "- insert: O(1)\n",
    "- extract_max: O(n)\n",
    "Overall, the time complexity will be O(n^2).\n",
    "\n",
    "\n",
    "If the array is ordered, the time complexity of the operations will be:\n",
    "- insert: O(n)\n",
    "- extract_max: O(1)\n",
    "Overall, the time complexity will be O(n^2).\n",
    "\n",
    "\n",
    "### Plan 2 - Using Two Diamensional Array\n",
    "-  Insert: O(Root(n))\n",
    "-  Extract_max: O(Root(n))\n",
    "For n elements, the time complexity will be O(n*Root(n)).\n",
    "\n",
    "\n",
    "### Plan 3 - Using Binary Heap\n",
    "Height - h = log(n)\n",
    "-  Insert: O(log(n))\n",
    "- Extract_max: O(log(n))\n",
    "For n elements, the time complexity will be O(n*log(n))."
   ]
  },
  {
   "cell_type": "markdown",
   "metadata": {},
   "source": [
    "##### Heap Implementation\n",
    "- Store the elements in a list H=[h0,h1,h2,...,hn]\n",
    "- Children of hi are at 2i+1 and 2i+2\n",
    "- Parent of hi is at H[(i-1)//2]"
   ]
  },
  {
   "cell_type": "code",
   "execution_count": null,
   "metadata": {},
   "outputs": [],
   "source": [
    "import heapq\n"
   ]
  }
 ],
 "metadata": {
  "kernelspec": {
   "display_name": "Python 3",
   "language": "python",
   "name": "python3"
  },
  "language_info": {
   "name": "python",
   "version": "3.12.6"
  }
 },
 "nbformat": 4,
 "nbformat_minor": 2
}
