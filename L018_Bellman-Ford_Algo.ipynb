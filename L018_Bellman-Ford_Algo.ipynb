{
 "cells": [
  {
   "cell_type": "markdown",
   "metadata": {},
   "source": [
    "# Bellmen-Ford Algorithm\n",
    "## Shortest Path in a Graph with Negative Weights\n",
    "\n",
    "The Bellman-Ford algorithm is used to find the shortest path from a source vertex to all other vertices in a weighted graph. It can handle graphs with negative weights, unlike Dijkstra's algorithm. However, it cannot handle graphs with negative cycles."
   ]
  },
  {
   "cell_type": "code",
   "execution_count": 1,
   "metadata": {},
   "outputs": [],
   "source": [
    "import numpy as np\n"
   ]
  },
  {
   "cell_type": "code",
   "execution_count": 2,
   "metadata": {},
   "outputs": [],
   "source": [
    "# Matrix Implementation - Overall Complexity - O(n^3)\n",
    "def bellmanford(WMat,s): # WMat is the weighted matrix, s is the source vertex\n",
    "    # Initialization - O(n^2)\n",
    "    rows,cols,x=WMat.shape\n",
    "    infinity=np.max(WMat)*rows+1\n",
    "    distance={}\n",
    "    for v in range(rows):\n",
    "        distance[v]=infinity\n",
    "    \n",
    "    distance[s]=0\n",
    "\n",
    "    #Updation - O(n^3)\n",
    "    for i in range(rows):\n",
    "        for u in range(rows):\n",
    "            for v in range(cols):\n",
    "                if WMat[u,v,0]==1:\n",
    "                    distance[v]=min(distance[v],distance[u]+WMat[u,v,1])\n",
    "    \n",
    "    return(distance)\n"
   ]
  },
  {
   "cell_type": "code",
   "execution_count": 3,
   "metadata": {},
   "outputs": [],
   "source": [
    "# List Implementation - O(nm)<=O(n^3)\n",
    "def bellmanfordlist(WList,s): # WList is the weighted list, s is the source vertex\n",
    "    \n",
    "    # Initialization - O(n)\n",
    "    infinity=1+len(WList.keys())*max([d for u in WList.keys() for v,d in WList[u]])\n",
    "    distance={}\n",
    "    for v in range(len(WList)):\n",
    "        distance[v]=infinity\n",
    "    \n",
    "    distance[s]=0\n",
    "\n",
    "    #Updation - O(nm)      \n",
    "    for i in WList.keys():\n",
    "        #Updation - O(m)         #m<=n^2\n",
    "        for u in WList.keys():\n",
    "            for v,d in WList[u]:\n",
    "                distance[v]=min(distance[v],distance[u]+d)\n",
    "\n",
    "    return(distance)\n"
   ]
  },
  {
   "cell_type": "markdown",
   "metadata": {},
   "source": [
    "## TEST CASES"
   ]
  },
  {
   "cell_type": "code",
   "execution_count": 4,
   "metadata": {},
   "outputs": [
    {
     "name": "stdout",
     "output_type": "stream",
     "text": [
      "Matrix Implementation Test Case:\n",
      "{0: 0, 1: 6, 2: 7, 3: 4}\n",
      "List Implementation Test Case:\n",
      "{0: 0, 1: 6, 2: 7, 3: 4}\n"
     ]
    }
   ],
   "source": [
    "# Test case for matrix implementation\n",
    "WMat = np.array([\n",
    "    [[0, 0], [1, 6], [1, 7], [0, 0]],\n",
    "    [[0, 0], [0, 0], [1, 8], [1, 5]],\n",
    "    [[0, 0], [0, 0], [0, 0], [1, -3]],\n",
    "    [[0, 0], [0, 0], [0, 0], [0, 0]]\n",
    "])\n",
    "source_vertex = 0\n",
    "print(\"Matrix Implementation Test Case:\")\n",
    "print(bellmanford(WMat, source_vertex))\n",
    "\n",
    "# Test case for list implementation\n",
    "WList = {\n",
    "    0: [(1, 6), (2, 7)],\n",
    "    1: [(2, 8), (3, 5)],\n",
    "    2: [(3, -3)],\n",
    "    3: []\n",
    "}\n",
    "source_vertex = 0\n",
    "print(\"List Implementation Test Case:\")\n",
    "print(bellmanfordlist(WList, source_vertex))\n"
   ]
  }
 ],
 "metadata": {
  "kernelspec": {
   "display_name": "Python 3",
   "language": "python",
   "name": "python3"
  },
  "language_info": {
   "codemirror_mode": {
    "name": "ipython",
    "version": 3
   },
   "file_extension": ".py",
   "mimetype": "text/x-python",
   "name": "python",
   "nbconvert_exporter": "python",
   "pygments_lexer": "ipython3",
   "version": "3.12.6"
  }
 },
 "nbformat": 4,
 "nbformat_minor": 2
}
