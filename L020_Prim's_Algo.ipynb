{
 "cells": [
  {
   "cell_type": "markdown",
   "metadata": {},
   "source": [
    "# Prim's Algorithm\n",
    "## Method to Build: Minimum Cost Spanning Tree\n",
    "\n",
    "Prim's Algorithm is a greedy algorithm that finds a minimum spanning tree for a weighted undirected graph. This means it finds a subset of the edges that forms a tree that includes every vertex, where the total weight of all the edges in the tree is minimized. The algorithm operates by building this tree one vertex at a time, from an arbitrary starting vertex, at each step adding the cheapest possible connection from the tree to another vertex."
   ]
  },
  {
   "cell_type": "markdown",
   "metadata": {},
   "source": [
    "## Implementation\n",
    "\n",
    "### Complexity: O(n^3)\n",
    "- The `primlist` function initializes the graph.\n",
    "- Sets the starting vertex.\n",
    "- Iteratively finds the minimum spanning tree by adding the cheapest connection to the tree.\n",
    "- Continues until all vertices are included or the graph is not connected.\n"
   ]
  },
  {
   "cell_type": "code",
   "execution_count": 9,
   "metadata": {},
   "outputs": [],
   "source": [
    "# Complexity: O(n^3)\n",
    "def primlist(WList):\n",
    "    #Initialization - O(n)\n",
    "    infinity=1+max([d for u in WList.keys() for v,d in WList[u]])\n",
    "    visited,distance,TreeEdges={},{},[]\n",
    "    for v in WList.keys():\n",
    "        visited[v],distance[v]=False, infinity\n",
    "    \n",
    "    visited[0]=True #Start from vertex 0\n",
    "    for v,d in WList[0]: #Update the distance of the vertices adjacent to 0\n",
    "        distance[v]=d\n",
    "\n",
    "    #Main Loop - O(n*m)<=O(n^3)\n",
    "    for _ in range(len(WList)-1):\n",
    "        minDist,nextv=infinity,None\n",
    "        #For each vertex, find the vertex with the minimum distance \n",
    "        for u in WList.keys():\n",
    "            for v,d in WList[u]:\n",
    "                if visited[u] and (not visited[v]) and d<minDist:\n",
    "                    minDist,nextv=d,v\n",
    "                    nexte=(u,v)\n",
    "        \n",
    "        if nextv is None: #When Graph is not connected\n",
    "            break\n",
    "        \n",
    "        visited[nextv]=True\n",
    "        TreeEdges.append(nexte)\n",
    "\n",
    "        for v,d in WList[nextv]:\n",
    "            if not visited[v]:\n",
    "                distance[v]=min(distance[v],d)\n",
    "    \n",
    "    return TreeEdges\n"
   ]
  },
  {
   "cell_type": "markdown",
   "metadata": {},
   "source": [
    "### Improved Implementation\n",
    "- Keep treck of nearest neighbour of v in tree - nbr[v]\n",
    "\n",
    "- Use a priority queue to find the minimum distance efficiently.\n",
    "- Update distances and nearest neighbors dynamically.\n"
   ]
  },
  {
   "cell_type": "code",
   "execution_count": 10,
   "metadata": {},
   "outputs": [],
   "source": [
    "# Complexity: O(n^2)\n",
    "def primlist2(WList):\n",
    "    #Initialization - O(n)\n",
    "    inifinity=1+max([d for u in WList.keys() for v,d in WList[u]])\n",
    "    visited,distance,nbr={},{},{}\n",
    "    for v in WList.keys():\n",
    "        visited[v],distance[v],nbr[v]=False,inifinity,-1\n",
    "    \n",
    "    #Strat from vertex 0\n",
    "    visited[0]=True\n",
    "    for v,d in WList[0]:\n",
    "        distance[v],nbr[v]=d,0\n",
    "\n",
    "    #Main Loop - O(n^2)\n",
    "    for _ in range(1,len(WList.keys())):\n",
    "        #Find the minimum distance\n",
    "        nextd=min([distance[v] for v in WList.keys() if not visited[v]])\n",
    "        #Find the vertex with the minimum distance\n",
    "        nextvlist=[v for v in WList.keys() if not visited[v] and distance[v]==nextd]\n",
    "\n",
    "        if nextvlist==[]: #When Graph is not connected\n",
    "            break\n",
    "\n",
    "        nextv=min(nextvlist)\n",
    "        visited[nextv]=True\n",
    "        for v,d in WList[nextv]:\n",
    "            if not visited[v]:\n",
    "                distance[v],nbr[v]=min(distance[v],d),nextv\n",
    "    \n",
    "    return nbr      \n"
   ]
  },
  {
   "cell_type": "markdown",
   "metadata": {},
   "source": [
    "### TEST CASES:"
   ]
  },
  {
   "cell_type": "code",
   "execution_count": 13,
   "metadata": {},
   "outputs": [
    {
     "name": "stdout",
     "output_type": "stream",
     "text": [
      "Test case for primlist function:\n",
      "primlist returns a list of edges that form the MST.\n",
      "[(0, 1), (1, 2), (1, 4), (0, 3)]\n",
      "\n",
      "Test case for primlist2 function:\n",
      "primlist2 returns a dictionary representing the MST in terms of parent-child relationships\n",
      "{0: -1, 1: 0, 2: 1, 3: 1, 4: 2}\n"
     ]
    }
   ],
   "source": [
    "# Test case for primlist function\n",
    "WList = {\n",
    "    0: [(1, 2), (3, 6)],\n",
    "    1: [(0, 2), (2, 3), (3, 8), (4, 5)],\n",
    "    2: [(1, 3), (4, 7)],\n",
    "    3: [(0, 6), (1, 8)],\n",
    "    4: [(1, 5), (2, 7)]\n",
    "}\n",
    "\n",
    "print(\"Test case for primlist function:\")\n",
    "print(\"primlist returns a list of edges that form the MST.\")\n",
    "tree_edges = primlist(WList)\n",
    "print(tree_edges)\n",
    "\n",
    "# Test case for primlist2 function\n",
    "print(\"\\nTest case for primlist2 function:\")\n",
    "print(\"primlist2 returns a dictionary representing the MST in terms of parent-child relationships\")\n",
    "nbr = primlist2(WList)\n",
    "print(nbr)\n"
   ]
  }
 ],
 "metadata": {
  "kernelspec": {
   "display_name": "Python 3",
   "language": "python",
   "name": "python3"
  },
  "language_info": {
   "codemirror_mode": {
    "name": "ipython",
    "version": 3
   },
   "file_extension": ".py",
   "mimetype": "text/x-python",
   "name": "python",
   "nbconvert_exporter": "python",
   "pygments_lexer": "ipython3",
   "version": "3.12.6"
  }
 },
 "nbformat": 4,
 "nbformat_minor": 2
}
