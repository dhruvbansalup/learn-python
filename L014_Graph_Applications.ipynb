{
 "cells": [
  {
   "cell_type": "markdown",
   "metadata": {},
   "source": [
    "# Applications of Graphs"
   ]
  },
  {
   "cell_type": "code",
   "execution_count": 1,
   "metadata": {},
   "outputs": [],
   "source": [
    "# Requienments\n",
    "def BFSList(AList, start):\n",
    "    visited = []\n",
    "    queue = []\n",
    "    visited.append(start)\n",
    "    queue.append(start)\n",
    "    while queue:\n",
    "        s = queue.pop(0)\n",
    "        for neighbour in AList[s]:\n",
    "            if neighbour not in visited:\n",
    "                visited.append(neighbour)\n",
    "                queue.append(neighbour)\n",
    "    return visited\n"
   ]
  },
  {
   "cell_type": "markdown",
   "metadata": {},
   "source": [
    "## "
   ]
  },
  {
   "cell_type": "markdown",
   "metadata": {},
   "source": [
    "## Connectivity\n",
    "### Identifing Different Components of a disconnected Graph"
   ]
  },
  {
   "cell_type": "code",
   "execution_count": 2,
   "metadata": {},
   "outputs": [],
   "source": [
    "def Components(AList):\n",
    "    Component={}\n",
    "    for i in AList.keys():\n",
    "        Component[i]=-1\n",
    "\n",
    "    compId,seen=0,0 #seen in no of vertices seen so far\n",
    "\n",
    "    while seen<=max(AList.keys()):\n",
    "        startv=min([i for i in AList.keys() if Component[i]==-1])\n",
    "        visited=BFSList(AList,startv)\n",
    "        for i in visited.keys():\n",
    "            if visited[i]:\n",
    "                Component[i]=compId\n",
    "                seen+=1\n",
    "        compId+=1\n",
    "    \n",
    "    return Component\n"
   ]
  },
  {
   "cell_type": "markdown",
   "metadata": {},
   "source": [
    "## DFS TREE"
   ]
  },
  {
   "cell_type": "code",
   "execution_count": 3,
   "metadata": {},
   "outputs": [],
   "source": [
    "visited,pre,post={}, {}, {}\n",
    "def DFSInitPrePost(AList):\n",
    "    for i in AList.keys():\n",
    "        visited[i]=False\n",
    "        pre[i],post[i]=-1,-1\n",
    "    return\n",
    "\n",
    "\n",
    "\n",
    "def DFSPrePost(AList,v,count): #initially count=0\n",
    "    visited[v]=True\n",
    "    pre[v]=count\n",
    "    count+=1\n",
    "    for k in AList[v]:\n",
    "        if not visited[k]:\n",
    "            \n",
    "            count=DFSPrePost(AList,k,count)\n",
    "    post[v]=count\n",
    "    count+=1\n",
    "    return count\n",
    "\n",
    "\n"
   ]
  }
 ],
 "metadata": {
  "kernelspec": {
   "display_name": "Python 3",
   "language": "python",
   "name": "python3"
  },
  "language_info": {
   "codemirror_mode": {
    "name": "ipython",
    "version": 3
   },
   "file_extension": ".py",
   "mimetype": "text/x-python",
   "name": "python",
   "nbconvert_exporter": "python",
   "pygments_lexer": "ipython3",
   "version": "3.12.6"
  }
 },
 "nbformat": 4,
 "nbformat_minor": 2
}
