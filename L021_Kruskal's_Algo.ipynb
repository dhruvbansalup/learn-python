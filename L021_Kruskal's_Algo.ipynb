{
 "cells": [
  {
   "cell_type": "markdown",
   "metadata": {},
   "source": [
    "# Kruskal's Algorithm\n",
    "\n",
    "## Method to Build: Minimum Cost Spanning Tree\n",
    "\n",
    "- Strategy\n",
    "    - Start with n components, each a single vertex\n",
    "    - Process Edges in ascending order of cost\n",
    "    - Include edge if it does not create a cycle\n",
    "\n",
    "Note: If edge weights repeats, MCST is not unique."
   ]
  },
  {
   "cell_type": "code",
   "execution_count": 1,
   "metadata": {},
   "outputs": [],
   "source": [
    "#Complexity O(n^2)\n",
    "def kruskal(WList):\n",
    "    edges,component,TE=[],{},[]\n",
    "    for u in WList.keys():\n",
    "        #Weight as first component to sort easily\n",
    "        edges.extend([(d,u,v) for (v,d) in WList[u]])\n",
    "        component[u]=u\n",
    "    edges.sort() #o(m log n)\n",
    "\n",
    "    #O(n^2)\n",
    "    for (d,u,v) in edges: #O(m)\n",
    "        if component[u]!=component[v]:\n",
    "            TE.append((u,v))\n",
    "            c=component[u]\n",
    "            for w in WList.keys():#O(n)\n",
    "                if component[w]==c:\n",
    "                    component[w]=component[v]\n",
    "    return(TE)\n"
   ]
  },
  {
   "cell_type": "code",
   "execution_count": 2,
   "metadata": {},
   "outputs": [
    {
     "name": "stdout",
     "output_type": "stream",
     "text": [
      "[(0, 1), (1, 2), (1, 4), (0, 3)]\n"
     ]
    }
   ],
   "source": [
    "# Test Case\n",
    "WList = {\n",
    "    0: [(1, 2), (3, 6)],\n",
    "    1: [(0, 2), (2, 3), (3, 8), (4, 5)],\n",
    "    2: [(1, 3), (4, 7)],\n",
    "    3: [(0, 6), (1, 8)],\n",
    "    4: [(1, 5), (2, 7)]\n",
    "}\n",
    "\n",
    "print(kruskal(WList))\n"
   ]
  }
 ],
 "metadata": {
  "kernelspec": {
   "display_name": "Python 3",
   "language": "python",
   "name": "python3"
  },
  "language_info": {
   "codemirror_mode": {
    "name": "ipython",
    "version": 3
   },
   "file_extension": ".py",
   "mimetype": "text/x-python",
   "name": "python",
   "nbconvert_exporter": "python",
   "pygments_lexer": "ipython3",
   "version": "3.12.6"
  }
 },
 "nbformat": 4,
 "nbformat_minor": 2
}
