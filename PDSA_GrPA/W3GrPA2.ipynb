{
 "cells": [
  {
   "cell_type": "markdown",
   "metadata": {},
   "source": [
    "## EvaluateExpression using stack postfix\n",
    "An arithmetic expression can be written in postfix form where each operator appears after the\n",
    "operands.\n",
    "\n",
    "For example:\n",
    "\n",
    "- A + B is written as A B +\n",
    "- (A + B) * (C - D) is written as A B + C D - *.\n",
    "\n",
    "The expressions written in the given form are easier to evaluate compared to normal expressions,\n",
    "as parenthesis are not required.\n",
    "\n",
    "A postfix expression can be evaluated with a stack using the following algorithm :\n",
    "\n",
    ". Create a stack to store operands (or numbers).\n",
    "· Scan each element in the given expression left to right.\n",
    "- . If the element is a number (operand), push it into the stack.\n",
    "- . If the element is an operator, pop two operands (Assume that the first popped element\n",
    "is B and the second popped element is A ) for the operator op from the stack.\n",
    "Evaluate the operation ( A op B) and push the result back to the stack.\n",
    ". When the expression is ends, the number in the stack is the final answer.\n",
    "\n",
    "Write a function EvaluateExpression(exp), that accepts an expression exp in string format,\n",
    "where each items are separated by the space. The function returns the evaluated value.\n",
    "operators.\n",
    "\n",
    "Note: Assume that the expression has only +, -, *, / and ** operators and integer operands."
   ]
  },
  {
   "cell_type": "code",
   "execution_count": 15,
   "metadata": {},
   "outputs": [],
   "source": [
    "def EvaluateExpression(exp):\n",
    "    exp=exp.strip().split()\n",
    "    operators=[\"+\",\"-\",\"*\",\"/\",\"**\"]\n",
    "    stack=[]\n",
    "    for char in exp:\n",
    "        \n",
    "        if char in operators:\n",
    "            A=stack.pop()\n",
    "            B=stack.pop()\n",
    "            stack.append(str(eval(B+char+A)))\n",
    "        else:\n",
    "            stack.append(char)\n",
    "    return stack[0]\n"
   ]
  },
  {
   "cell_type": "code",
   "execution_count": 13,
   "metadata": {},
   "outputs": [],
   "source": [
    "import operator\n",
    "\n",
    "def EvaluateExpression(exp):\n",
    "    exp = exp.strip().split()\n",
    "    operators = {\n",
    "        \"+\": operator.add,\n",
    "        \"-\": operator.sub,\n",
    "        \"*\": operator.mul,\n",
    "        \"/\": operator.truediv,\n",
    "        \"**\": operator.pow\n",
    "    }\n",
    "    stack = []\n",
    "    \n",
    "    for char in exp:\n",
    "        if char in operators:\n",
    "            A = stack.pop()\n",
    "            B = stack.pop()\n",
    "            result = operators[char](float(B), float(A))\n",
    "            stack.append(result)\n",
    "        else:\n",
    "            stack.append(char)\n",
    "    \n",
    "    return stack[0]\n"
   ]
  },
  {
   "cell_type": "code",
   "execution_count": 17,
   "metadata": {},
   "outputs": [
    {
     "name": "stdout",
     "output_type": "stream",
     "text": [
      "-4.0\n",
      "757.0\n",
      "100.0\n"
     ]
    }
   ],
   "source": [
    "#Test Cases\n",
    "print(float(EvaluateExpression(\"2 3 1 * + 9 -\"))) #-4\n",
    "print(float(EvaluateExpression(\"100 200 + 2 / 5 * 7 +\"))) #757\n",
    "print(float(EvaluateExpression(\"3 7 + 12 2 - *\"))) #100\n"
   ]
  }
 ],
 "metadata": {
  "kernelspec": {
   "display_name": "Python 3",
   "language": "python",
   "name": "python3"
  },
  "language_info": {
   "codemirror_mode": {
    "name": "ipython",
    "version": 3
   },
   "file_extension": ".py",
   "mimetype": "text/x-python",
   "name": "python",
   "nbconvert_exporter": "python",
   "pygments_lexer": "ipython3",
   "version": "3.12.6"
  }
 },
 "nbformat": 4,
 "nbformat_minor": 2
}
