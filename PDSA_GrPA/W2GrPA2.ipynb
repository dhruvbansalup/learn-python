{
 "cells": [
  {
   "cell_type": "markdown",
   "metadata": {},
   "source": [
    "# Merging two sorted arrays in place.\n",
    "\n",
    "Given a custom implementation of list named MyList. On MyList objects you can perform read operations similar to the in-build lists in Python, example use A[i] to read element at index i) in MyList object A. The only possible operation that you can use to edit data in MyList objects is by calling the swap method. For instance, A. swap(indexA, B, indexB) will swap values at A[indexA] and B[indexB] and A. swap(index1, A, index2) will swap values at A[index1] and A[index2], where indexA, indexB, index1, index2 are all integers.\n",
    "\n",
    "Complete the Python function mergeInPlace(A, B) that accepts two MyLists A and B containing integers that are sorted in ascending order and merges them in place(without using any other list) such that after merging, A and B are still sorted in ascending order with the smallest element of both MyLists as the first element of A."
   ]
  },
  {
   "cell_type": "code",
   "execution_count": 1,
   "metadata": {},
   "outputs": [],
   "source": [
    "# complexity O(nlogn)\n",
    "def findLargest(l):\n",
    "   if len(l)==1:\n",
    "      return l[0]\n",
    "   \n",
    "   first_half=l[:len(l)//2]\n",
    "   second_half=l[len(l)//2:]\n",
    "   if first_half[0]>second_half[0]:\n",
    "      return(findLargest(first_half))\n",
    "   else:\n",
    "      return(findLargest(second_half))\n"
   ]
  },
  {
   "cell_type": "code",
   "execution_count": 2,
   "metadata": {},
   "outputs": [],
   "source": [
    "# #Complexity O(log n)\n",
    "def findLargest(l):\n",
    "    low = 0\n",
    "    high = len(l) - 1\n",
    "    while low < high:\n",
    "        mid = low + (high - low) // 2\n",
    "        if l[low] > l[mid+1]:\n",
    "            high = mid\n",
    "        else:\n",
    "            low = mid + 1\n",
    "    return l[high]\n"
   ]
  },
  {
   "cell_type": "code",
   "execution_count": 3,
   "metadata": {},
   "outputs": [
    {
     "name": "stdout",
     "output_type": "stream",
     "text": [
      "9\n",
      "8\n",
      "8\n"
     ]
    }
   ],
   "source": [
    "print(findLargest([7,8,9,2,4,5,6]))\n",
    "print(findLargest([3,4,5,6,7,8,1,2]))\n",
    "print(findLargest([8,1,2,3,4,5,6,7]))\n"
   ]
  }
 ],
 "metadata": {
  "kernelspec": {
   "display_name": "Python 3",
   "language": "python",
   "name": "python3"
  },
  "language_info": {
   "codemirror_mode": {
    "name": "ipython",
    "version": 3
   },
   "file_extension": ".py",
   "mimetype": "text/x-python",
   "name": "python",
   "nbconvert_exporter": "python",
   "pygments_lexer": "ipython3",
   "version": "3.12.6"
  }
 },
 "nbformat": 4,
 "nbformat_minor": 2
}
