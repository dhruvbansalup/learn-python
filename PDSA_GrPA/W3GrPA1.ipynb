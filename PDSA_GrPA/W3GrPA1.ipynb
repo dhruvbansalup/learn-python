{
 "cells": [
  {
   "cell_type": "markdown",
   "metadata": {},
   "source": [
    "# DishPrepareOrder(order_list)\n",
    "A restaurant always prepares dishes with the most orders before others with a lesser number of orders. Each dish in the restaurant menu has a unique integer ID. The restaurant receives n orders in a particular time period. The task is to find out the order of dish IDs according to which the restaurant will prepare them. Assume that restaurant has the following unique dish IDs in its menu:\n",
    "\n",
    "[1001, 1002, 1003, 1004, 1005, 1006, 1007, 1008, 1009]\n",
    "\n",
    "Write a function DishPrepareOrder(order_list) that accepts order_list in the form of a list of dish IDs and returns a list of dish IDs in the order in which the restaurant will prepare them. If two or more dishes have the same number of orders, then the dish which has a smaller ID value will be prepared first.\n",
    "\n",
    "- Sample input\n",
    "[1004,1003,1004,1003,1004,1005,1003,1004,1003,1002,1005,1002,1002,1001,1002,1002,1002]\n",
    "- Sample output\n",
    "[1002, 1003, 1004, 1005, 1001]"
   ]
  },
  {
   "cell_type": "code",
   "execution_count": 7,
   "metadata": {},
   "outputs": [
    {
     "name": "stdout",
     "output_type": "stream",
     "text": [
      "dict_values([4, 4, 2, 6, 1])\n",
      "[(1002, 6), (1003, 4), (1004, 4), (1005, 2), (1001, 1)]\n"
     ]
    }
   ],
   "source": [
    "def DishPrepareOrder(order_list):\n",
    "    DishCount={}\n",
    "    for orderID in order_list:\n",
    "        if orderID in DishCount:\n",
    "            DishCount[orderID]+=1\n",
    "        else:\n",
    "            DishCount[orderID]=1\n",
    "    \n",
    "    sorted_dishes = sorted(DishCount.items(), key=lambda x: (-x[1], x[0]))\n",
    "    sorted_dish_ids = [dish[0] for dish in sorted_dishes]\n",
    "    return sorted_dish_ids\n"
   ]
  }
 ],
 "metadata": {
  "kernelspec": {
   "display_name": "Python 3",
   "language": "python",
   "name": "python3"
  },
  "language_info": {
   "codemirror_mode": {
    "name": "ipython",
    "version": 3
   },
   "file_extension": ".py",
   "mimetype": "text/x-python",
   "name": "python",
   "nbconvert_exporter": "python",
   "pygments_lexer": "ipython3",
   "version": "3.12.6"
  }
 },
 "nbformat": 4,
 "nbformat_minor": 2
}
