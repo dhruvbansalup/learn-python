{
 "cells": [
  {
   "cell_type": "markdown",
   "metadata": {},
   "source": [
    "# W6GrPA2\n",
    "Write a Python function maxLessThan(root, K), that accepts the root node of the binary search tree and a number K and returns the maximum number less than or equal to K in the tree. If K is the less than every number in the tree return None . Each node in the tree is an object of class Tree , and the tree will have at least one node.\n"
   ]
  },
  {
   "cell_type": "code",
   "execution_count": 1,
   "metadata": {},
   "outputs": [],
   "source": [
    "class Tree:\n",
    "  #constructor\n",
    "  def __init__(self, initval=None):\n",
    "    self.value = initval\n",
    "    if self.value:\n",
    "      self.left = Tree()\n",
    "      self.right = Tree()\n",
    "    else:\n",
    "      self.left = self.right = None\n",
    "    return\n",
    "  \n",
    "  #Only empty node has value None\n",
    "  def isempty(self):\n",
    "    return(self.value == None)\n",
    "  \n",
    "  #Leaf nodes have both children empty\n",
    "  def isleaf(self):\n",
    "    return(self.value != None and self.left.isempty() and self.right.isempty())\n",
    "  \n",
    "#insert element to BST\n",
    "def insertToBST(root, x):\n",
    "  # Tree should have atleast one element.\n",
    "  temp = root\n",
    "  while (not temp.isempty()):\n",
    "    if (x < temp.value):\n",
    "      temp = temp.left\n",
    "    else:\n",
    "      temp = temp.right\n",
    "\n",
    "  temp.value = x\n",
    "  temp.left = Tree()\n",
    "  temp.right = Tree()\n"
   ]
  },
  {
   "cell_type": "code",
   "execution_count": 31,
   "metadata": {},
   "outputs": [],
   "source": [
    "def maxLessThan(root, K):\n",
    "    max_val = None\n",
    "    while root is not None and not root.isempty():\n",
    "        if root.value <= K:\n",
    "            max_val = root.value\n",
    "            root = root.right\n",
    "        else:\n",
    "            root = root.left\n",
    "    return max_val\n"
   ]
  },
  {
   "cell_type": "markdown",
   "metadata": {},
   "source": [
    "## Testcases"
   ]
  },
  {
   "cell_type": "code",
   "execution_count": 30,
   "metadata": {},
   "outputs": [
    {
     "name": "stdout",
     "output_type": "stream",
     "text": [
      "None\n",
      "93\n"
     ]
    }
   ],
   "source": [
    "#Test 1\n",
    "a=\"23235 82107 35775 91961 4323 40556 76603 64302 27316 74372\"\n",
    "b=2000\n",
    "\n",
    "L = [int(item) for item in a.split(\" \")]\n",
    "root = Tree(L[0])\n",
    "for item in L[1:]:\n",
    "  insertToBST(root, item)\n",
    "\n",
    "print(maxLessThan(root, b))\n",
    "\n",
    "# Expected Output\n",
    "# None\n",
    "\n",
    "\n",
    "#Test 2\n",
    "a=\"50 52 54 74 93 100 114 124 130 143\"\n",
    "b=92\n",
    "\n",
    "L = [int(item) for item in a.split(\" \")]\n",
    "root = Tree(L[0])\n",
    "for item in L[1:]:\n",
    "  insertToBST(root, item)\n",
    "\n",
    "print(maxLessThan(root, b))\n",
    "\n",
    "# Expected Output\n",
    "# 74\n"
   ]
  }
 ],
 "metadata": {
  "kernelspec": {
   "display_name": "Python 3",
   "language": "python",
   "name": "python3"
  },
  "language_info": {
   "codemirror_mode": {
    "name": "ipython",
    "version": 3
   },
   "file_extension": ".py",
   "mimetype": "text/x-python",
   "name": "python",
   "nbconvert_exporter": "python",
   "pygments_lexer": "ipython3",
   "version": "3.12.6"
  }
 },
 "nbformat": 4,
 "nbformat_minor": 2
}
