{
 "cells": [
  {
   "cell_type": "markdown",
   "metadata": {},
   "source": [
    "# Reverse Linked List\n",
    "Complete the below function reverse(root) that will reverse the linked list with the first node passed as an argument, and return the first node of the reversed list. Each node in the linked list is an object of class Node. Class Node members are described below.\n",
    "\n",
    "Class Node:\n",
    "\n",
    "- value - stored value.\n",
    "- next - points to next node.\n",
    "- isEmpty() - returns True if linked list is empty, False otherwise.\n",
    "\n",
    "Note- The list is to be reversed only by changing next pointer of existing nodes. No values to be changed and no new nodes to be created.\n",
    "\n",
    "Sample Input 1\n",
    "\n",
    "64,7,28,43,3\n",
    "\n",
    "\n",
    "Sample Output 1\n",
    "\n",
    "3,43,28,7,64\n",
    "\n",
    "Sample Input 2\n",
    "\n",
    "12\n",
    "\n",
    "Sample Output 2\n",
    "\n",
    "12"
   ]
  },
  {
   "cell_type": "code",
   "execution_count": 14,
   "metadata": {},
   "outputs": [],
   "source": [
    "# Linked List\n",
    "class Node:\n",
    "    def __init__(self, value=None):\n",
    "        self.value = value\n",
    "        self.next = None\n",
    "        return\n",
    "\n",
    "    def isempty(self):\n",
    "        if self.value == None:\n",
    "            return True\n",
    "        else:\n",
    "            return False\n",
    "        #recursive function to append data to the end of the list\n",
    "    def append(self,data):\n",
    "        if self.isempty():\n",
    "            self.data = data\n",
    "        elif self.next == None:\n",
    "            self.next = Node(data)\n",
    "        else:\n",
    "            self.next.append(data)\n",
    "        return\n"
   ]
  },
  {
   "cell_type": "code",
   "execution_count": 12,
   "metadata": {},
   "outputs": [],
   "source": [
    "def reverse(root):\n",
    "    if root.isempty():\n",
    "        return True\n",
    "    currNode=root\n",
    "    nextNode=currNode.next\n",
    "    currNode.next=None\n",
    "    prevNode=currNode\n",
    "\n",
    "    while nextNode!=None:\n",
    "        currNode=nextNode\n",
    "        nextNode=currNode.next\n",
    "        currNode.next=prevNode\n",
    "        prevNode=currNode\n",
    "    return currNode\n"
   ]
  },
  {
   "cell_type": "code",
   "execution_count": 13,
   "metadata": {},
   "outputs": [
    {
     "data": {
      "text/plain": [
       "<__main__.Node at 0x20029d8da00>"
      ]
     },
     "execution_count": 13,
     "metadata": {},
     "output_type": "execute_result"
    }
   ],
   "source": [
    "#Test Case 1\n",
    "a=Node(64)\n",
    "a.append(7)\n",
    "a.append(28)\n",
    "a.append(43)\n",
    "a.append(3)\n",
    "\n",
    "reverse(a)\n"
   ]
  }
 ],
 "metadata": {
  "kernelspec": {
   "display_name": "Python 3",
   "language": "python",
   "name": "python3"
  },
  "language_info": {
   "codemirror_mode": {
    "name": "ipython",
    "version": 3
   },
   "file_extension": ".py",
   "mimetype": "text/x-python",
   "name": "python",
   "nbconvert_exporter": "python",
   "pygments_lexer": "ipython3",
   "version": "3.12.6"
  }
 },
 "nbformat": 4,
 "nbformat_minor": 2
}
