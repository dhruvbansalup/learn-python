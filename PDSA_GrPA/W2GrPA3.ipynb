{
 "cells": [
  {
   "cell_type": "markdown",
   "metadata": {},
   "source": [
    "# Merging two sorted arrays in place.\n",
    "\n",
    "Given a custom implementation of list named MyList. On MyList objects you can perform read operations similar to the in-build lists in Python, example use A[i] to read element at index i in MyList object A. The only possible operation that you can use to edit data in MyList objects is by calling the swap method. For instance, A. swap(indexA, B, indexB) will swap values at A[indexA] and B[indexB] and A. swap(index1, A, index2) will swap values at A[index1] and A[index2], where indexA, indexB, index1, index2 are all integers.\n",
    "\n",
    "Complete the Python function mergeInPlace(A, B) that accepts two MyLists A and B containing integers that are sorted in ascending order and merges them in place(without using any other list) such that after merging, A and B are still sorted in ascending order with the smallest element of both MyLists as the first element of A.\n"
   ]
  },
  {
   "cell_type": "markdown",
   "metadata": {},
   "source": [
    "## MyList"
   ]
  },
  {
   "cell_type": "code",
   "execution_count": 9,
   "metadata": {},
   "outputs": [],
   "source": [
    "class MyList:\n",
    "    def __init__(self, data):\n",
    "        self.data = data\n",
    "\n",
    "    def __getitem__(self, index):\n",
    "        return self.data[index]\n",
    "\n",
    "    def swap(self, indexA, B, indexB):\n",
    "        if B is self:\n",
    "            # Swapping within the same list\n",
    "            self.data[indexA], self.data[indexB] = self.data[indexB], self.data[indexA]\n",
    "        else:\n",
    "            # Swapping between two different lists\n",
    "            self.data[indexA], B.data[indexB] = B.data[indexB], self.data[indexA]\n",
    "\n",
    "    def __len__(self):\n",
    "        return len(self.data)\n",
    "\n",
    "    def __str__(self):\n",
    "        return str(self.data)\n"
   ]
  },
  {
   "cell_type": "code",
   "execution_count": 10,
   "metadata": {},
   "outputs": [
    {
     "name": "stdout",
     "output_type": "stream",
     "text": [
      "Before swap:\n",
      "A: [1, 3, 5]\n",
      "B: [2, 4, 6]\n",
      "After swap:\n",
      "A: [1, 6, 5]\n",
      "B: [2, 4, 3]\n"
     ]
    }
   ],
   "source": [
    "# Example usage:\n",
    "A = MyList([1, 3, 5])\n",
    "B = MyList([2, 4, 6])\n",
    "print(\"Before swap:\")\n",
    "print(\"A:\", A)\n",
    "print(\"B:\", B)\n",
    "A.swap(1, B, 2)\n",
    "print(\"After swap:\")\n",
    "print(\"A:\", A)\n",
    "print(\"B:\", B)\n"
   ]
  },
  {
   "cell_type": "markdown",
   "metadata": {},
   "source": [
    "## mergeInPlace"
   ]
  },
  {
   "cell_type": "code",
   "execution_count": 11,
   "metadata": {},
   "outputs": [],
   "source": [
    "def mergeInPlace(A,B):\n",
    "    for i in range(len(A)):\n",
    "        if A[i] > B[0]:\n",
    "            A.swap(i,B,0)\n",
    "            # Bubble sort B\n",
    "            for j in range(1,len(B)):\n",
    "                if B[j] < B[j-1]:\n",
    "                    B.swap(j,B,j-1)\n"
   ]
  },
  {
   "cell_type": "code",
   "execution_count": 12,
   "metadata": {},
   "outputs": [
    {
     "name": "stdout",
     "output_type": "stream",
     "text": [
      "[1, 2, 3, 4, 5, 6, 1, 3, 5, 9]\n",
      "[10, 10, 13, 15]\n"
     ]
    }
   ],
   "source": [
    "#Test Cases\n",
    "A = MyList([2, 4, 6, 9, 13, 15, 1, 3, 5, 10])\n",
    "B = MyList([1,3,5,10])\n",
    "mergeInPlace(A,B)\n",
    "print(A)\n",
    "print(B)\n"
   ]
  }
 ],
 "metadata": {
  "kernelspec": {
   "display_name": "Python 3",
   "language": "python",
   "name": "python3"
  },
  "language_info": {
   "codemirror_mode": {
    "name": "ipython",
    "version": 3
   },
   "file_extension": ".py",
   "mimetype": "text/x-python",
   "name": "python",
   "nbconvert_exporter": "python",
   "pygments_lexer": "ipython3",
   "version": "3.12.6"
  }
 },
 "nbformat": 4,
 "nbformat_minor": 2
}
