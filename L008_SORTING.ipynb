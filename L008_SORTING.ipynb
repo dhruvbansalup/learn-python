{
 "cells": [
  {
   "cell_type": "markdown",
   "metadata": {},
   "source": [
    "# SORTING LISTS"
   ]
  },
  {
   "cell_type": "markdown",
   "metadata": {},
   "source": [
    "### Selection Sort\n",
    "Complexity: O(n^2)"
   ]
  },
  {
   "cell_type": "code",
   "execution_count": 77,
   "metadata": {},
   "outputs": [],
   "source": [
    "def selection_sort(l):\n",
    "    n=len(l)\n",
    "    if n<1:\n",
    "        return(l)\n",
    "    for i in range(n):\n",
    "        #Assume L[:i] is sorted9\n",
    "        mpos=i\n",
    "        #mpos: position of min in[i:]\n",
    "        for j in range(i+1,n):\n",
    "            if l[j]<l[mpos]:\n",
    "                mpos=j\n",
    "        #Swap min value\n",
    "        (l[i],l[mpos])=(l[mpos],l[i])\n",
    "        #Now l[:i+1] is sorted\n",
    "    return(l)\n"
   ]
  },
  {
   "cell_type": "markdown",
   "metadata": {},
   "source": [
    "### Insertion Sort\n",
    "Complexity: O(n^2)"
   ]
  },
  {
   "cell_type": "code",
   "execution_count": 78,
   "metadata": {},
   "outputs": [],
   "source": [
    "#Iterative Method\n",
    "def insertion_sort(l):\n",
    "    n=len(l)\n",
    "    if n<1:\n",
    "        return(l)\n",
    "    for i in range(n):\n",
    "        # Assume l[:i] is sorted\n",
    "        # Move l[i] to correct position in l\n",
    "        j=i\n",
    "        while(j>0 and l[j]<l[j-1]):\n",
    "            (l[j],l[j-1])=(l[j-1],l[j])\n",
    "            j=j-1\n",
    "        # Now l[:i+1] is sorted\n",
    "    return(l)\n",
    "\n",
    "#Recursive Method\n",
    "def insert(l,v): \n",
    "    \"\"\"insert a value v in list l at correct positon\"\"\"\n",
    "    n=len(l)\n",
    "    if n==0:\n",
    "        return([v])\n",
    "    if v>=l[-1]:\n",
    "        return(l+[v])\n",
    "    else:\n",
    "        return(insert(l[:-1],v)+l[-1:])\n",
    "def insertion_sort_recursive(l): \n",
    "    n=len(l)\n",
    "    if n<1:\n",
    "        return(l)\n",
    "    l=insert(insertion_sort_recursive(l[:-1]),l[-1])\n",
    "    return l\n"
   ]
  },
  {
   "cell_type": "markdown",
   "metadata": {},
   "source": [
    "### Merge Sorting\n",
    "Complexity : O(n(log n))"
   ]
  },
  {
   "cell_type": "code",
   "execution_count": 79,
   "metadata": {},
   "outputs": [],
   "source": [
    "def merge(A,B): #Complexity: O(n)\n",
    "    \"\"\"Fn will merge 2 sorted lists A & B and return merged list C\"\"\"\n",
    "    m,n=len(A),len(B)\n",
    "    C,i,j,k=[],0,0,0\n",
    "    while k<m+n:\n",
    "        if i==m:    #if A is empty\n",
    "            C.extend(B[j:])\n",
    "            k+=(n-j)\n",
    "        elif j==n:  #if B is empty\n",
    "            C.extend(A[i:])\n",
    "            k+=(n-i)        \n",
    "        elif A[i]<B[j]:\n",
    "            C.append(A[i])\n",
    "            (i,k)=(i+1,k+1)\n",
    "        else:\n",
    "            C.append(B[j])\n",
    "            (j,k)=(j+1,k+1)\n",
    "    return(C)\n",
    "def merge_sort(A):  # Complexity: n(log n)\n",
    "    n=len(A)\n",
    "    if n<=1:\n",
    "        return A\n",
    "    mid=n//2\n",
    "    L=merge_sort(A[:mid])\n",
    "    R=merge_sort(A[mid:])\n",
    "\n",
    "    return(merge(L,R))\n"
   ]
  },
  {
   "cell_type": "markdown",
   "metadata": {},
   "source": [
    "### Time Testing"
   ]
  },
  {
   "cell_type": "code",
   "execution_count": 80,
   "metadata": {},
   "outputs": [],
   "source": [
    "from L007_TIMER import Timer\n",
    "\n",
    "#Random List for testing with 5000 elements\n",
    "import random\n",
    "random.seed(2024)\n",
    "inputlists={}\n",
    "inputlists[\"random\"]=[random.randrange(100000) for i in range(5000)]\n",
    "inputlists[\"ascending\"]=[i for i in range(5000)]\n",
    "inputlists[\"descending\"]=[i for i in range(4999,-1,-1)]\n",
    "\n"
   ]
  },
  {
   "cell_type": "markdown",
   "metadata": {},
   "source": [
    "#### Selection Sort"
   ]
  },
  {
   "cell_type": "code",
   "execution_count": 81,
   "metadata": {},
   "outputs": [
    {
     "name": "stdout",
     "output_type": "stream",
     "text": [
      "random 1.627098200000546\n",
      "ascending 1.5035188000001654\n",
      "descending 1.7312259000009362\n"
     ]
    }
   ],
   "source": [
    "t=Timer()\n",
    "for k in inputlists.keys():\n",
    "    tmplist=inputlists[k][:]    #Makes Copy of list\n",
    "    t.start()\n",
    "    selection_sort(tmplist)\n",
    "    t.stop()\n",
    "    print(k,t)\n"
   ]
  },
  {
   "cell_type": "markdown",
   "metadata": {},
   "source": [
    "#### Insertion Sort"
   ]
  },
  {
   "cell_type": "markdown",
   "metadata": {},
   "source": [
    "##### Iterative"
   ]
  },
  {
   "cell_type": "code",
   "execution_count": 82,
   "metadata": {},
   "outputs": [
    {
     "name": "stdout",
     "output_type": "stream",
     "text": [
      "random 2.594922000000224\n",
      "ascending 0.0009413000007043593\n",
      "descending 4.754239199999574\n"
     ]
    }
   ],
   "source": [
    "t=Timer()\n",
    "for k in inputlists.keys():\n",
    "    tmplist=inputlists[k][:]    #Makes Copy of list\n",
    "    t.start()\n",
    "    insertion_sort(tmplist)\n",
    "    t.stop()\n",
    "    print(k,t)\n"
   ]
  },
  {
   "cell_type": "markdown",
   "metadata": {},
   "source": [
    "##### Recursive"
   ]
  },
  {
   "cell_type": "code",
   "execution_count": 87,
   "metadata": {},
   "outputs": [],
   "source": [
    "# Increasing Recursion Limit Else We will get \"RecursionError: maximum recursion depth exceeded\" Error\n",
    "import sys\n",
    "sys.setrecursionlimit(2**31-1)\n",
    "# This is the highest limit that python allows\n",
    "\n",
    "#Decreasing List Size to 2000 Elements\n",
    "random.seed(2024)\n",
    "inputlists2={}\n",
    "inputlists2[\"random\"]=[random.randrange(100000) for i in range(2000)]\n",
    "inputlists2[\"ascending\"]=[i for i in range(2000)]\n",
    "inputlists2[\"descending\"]=[i for i in range(1999,-1,-1)]\n"
   ]
  },
  {
   "cell_type": "code",
   "execution_count": 88,
   "metadata": {},
   "outputs": [
    {
     "name": "stdout",
     "output_type": "stream",
     "text": [
      "random 16.398438899999746\n",
      "ascending 0.03755989999990561\n",
      "descending 28.75249690000055\n"
     ]
    }
   ],
   "source": [
    "t=Timer()\n",
    "for k in inputlists2.keys():\n",
    "    tmplist=inputlists2[k][:]    #Makes Copy of list\n",
    "    t.start()\n",
    "    insertion_sort_recursive(tmplist)\n",
    "    t.stop()\n",
    "    print(k,t)\n"
   ]
  },
  {
   "cell_type": "markdown",
   "metadata": {},
   "source": [
    "#### Merge Sort"
   ]
  },
  {
   "cell_type": "code",
   "execution_count": 84,
   "metadata": {},
   "outputs": [
    {
     "name": "stdout",
     "output_type": "stream",
     "text": [
      "random 0.03756290000092122\n",
      "ascending 0.025824499998634565\n",
      "descending 0.02518659999986994\n"
     ]
    }
   ],
   "source": [
    "t=Timer()\n",
    "for k in inputlists.keys():\n",
    "    tmplist=inputlists[k][:]    #Makes Copy of list\n",
    "    t.start()\n",
    "    merge_sort(tmplist)\n",
    "    t.stop()\n",
    "    print(k,t)\n"
   ]
  },
  {
   "cell_type": "code",
   "execution_count": 85,
   "metadata": {},
   "outputs": [],
   "source": [
    "# Increasing List Size to 1000000 Elements\n",
    "random.seed(2024)\n",
    "inputlists3={}\n",
    "inputlists3[\"random\"]=[random.randrange(100000000) for i in range(1000000)]\n",
    "inputlists3[\"ascending\"]=[i for i in range(1000000)]\n",
    "inputlists3[\"descending\"]=[i for i in range(999999,-1,-1)]\n"
   ]
  },
  {
   "cell_type": "code",
   "execution_count": 86,
   "metadata": {},
   "outputs": [
    {
     "name": "stdout",
     "output_type": "stream",
     "text": [
      "random 9.471934799999872\n",
      "ascending 5.631847200000266\n",
      "descending 5.522813600000518\n"
     ]
    }
   ],
   "source": [
    "t=Timer()\n",
    "for k in inputlists3.keys():\n",
    "    tmplist=inputlists3[k][:]    #Makes Copy of list\n",
    "    t.start()\n",
    "    merge_sort(tmplist)\n",
    "    t.stop()\n",
    "    print(k,t)\n"
   ]
  }
 ],
 "metadata": {
  "kernelspec": {
   "display_name": "Python 3",
   "language": "python",
   "name": "python3"
  },
  "language_info": {
   "codemirror_mode": {
    "name": "ipython",
    "version": 3
   },
   "file_extension": ".py",
   "mimetype": "text/x-python",
   "name": "python",
   "nbconvert_exporter": "python",
   "pygments_lexer": "ipython3",
   "version": "3.12.6"
  }
 },
 "nbformat": 4,
 "nbformat_minor": 2
}
