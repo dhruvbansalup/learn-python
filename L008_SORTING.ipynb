{
 "cells": [
  {
   "cell_type": "markdown",
   "metadata": {},
   "source": [
    "# SORTING LISTS"
   ]
  },
  {
   "cell_type": "markdown",
   "metadata": {},
   "source": [
    "### Selection Sort\n",
    "Complexity: O(n^2)"
   ]
  },
  {
   "cell_type": "code",
   "execution_count": 19,
   "metadata": {},
   "outputs": [],
   "source": [
    "def selection_sort(l):\n",
    "    n=len(l)\n",
    "    if n<1:\n",
    "        return(l)\n",
    "    for i in range(n):\n",
    "        #Assume L[:i] is sorted9\n",
    "        mpos=i\n",
    "        #mpos: position of min in[i:]\n",
    "        for j in range(i+1,n):\n",
    "            if l[j]<l[mpos]:\n",
    "                mpos=j\n",
    "        #Swap min value\n",
    "        (l[i],l[mpos])=(l[mpos],l[i])\n",
    "        #Now l[:i+1] is sorted\n",
    "    return(l)\n"
   ]
  },
  {
   "cell_type": "markdown",
   "metadata": {},
   "source": [
    "### Insertion Sort\n",
    "Complexity: O(n^2)"
   ]
  },
  {
   "cell_type": "code",
   "execution_count": 20,
   "metadata": {},
   "outputs": [],
   "source": [
    "#Iterative Method\n",
    "def insertion_sort(l):\n",
    "    n=len(l)\n",
    "    if n<1:\n",
    "        return(l)\n",
    "    for i in range(n):\n",
    "        # Assume l[:i] is sorted\n",
    "        # Move l[i] to correct position in l\n",
    "        j=i\n",
    "        while(j>0 and l[j]<l[j-1]):\n",
    "            (l[j],l[j-1])=(l[j-1],l[j])\n",
    "            j=j-1\n",
    "        # Now l[:i+1] is sorted\n",
    "    return(l)\n",
    "\n",
    "#Recursive Method\n",
    "def insert(l,v): \n",
    "    \"\"\"insert a value v in list l at correct positon\"\"\"\n",
    "    n=len(l)\n",
    "    if n==0:\n",
    "        return([v])\n",
    "    if v>=l[-1]:\n",
    "        return(l+[v])\n",
    "    else:\n",
    "        return(insert(l[:-1],v)+l[-1:])\n",
    "def insertion_sort_recursive(l): \n",
    "    n=len(l)\n",
    "    if n<1:\n",
    "        return(l)\n",
    "    l=insert(insertion_sort_recursive(l[:-1]),l[-1])\n",
    "    return l\n"
   ]
  },
  {
   "cell_type": "markdown",
   "metadata": {},
   "source": [
    "### Merge Sorting\n",
    "Complexity : O(n(log n))"
   ]
  },
  {
   "cell_type": "code",
   "execution_count": 21,
   "metadata": {},
   "outputs": [],
   "source": [
    "def merge(A,B): #Complexity: O(n)\n",
    "    \"\"\"Fn will merge 2 sorted lists A & B and return merged list C\"\"\"\n",
    "    m,n=len(A),len(B)\n",
    "    C,i,j,k=[],0,0,0\n",
    "    while k<m+n:\n",
    "        if i==m:    #if A is empty\n",
    "            C.extend(B[j:])\n",
    "            k+=(n-j)\n",
    "        elif j==n:  #if B is empty\n",
    "            C.extend(A[i:])\n",
    "            k+=(n-i)        \n",
    "        elif A[i]<B[j]:\n",
    "            C.append(A[i])\n",
    "            (i,k)=(i+1,k+1)\n",
    "        else:\n",
    "            C.append(B[j])\n",
    "            (j,k)=(j+1,k+1)\n",
    "    return(C)\n",
    "def merge_sort(A):  # Complexity: n(log n)\n",
    "    n=len(A)\n",
    "    if n<=1:\n",
    "        return A\n",
    "    mid=n//2\n",
    "    L=merge_sort(A[:mid])\n",
    "    R=merge_sort(A[mid:])\n",
    "\n",
    "    return(merge(L,R))\n"
   ]
  },
  {
   "cell_type": "markdown",
   "metadata": {},
   "source": [
    "### Quick Sort\n",
    "\n",
    "Quick Sort is a divide and conquer algorithm. It works by selecting a 'pivot' element from the array and partitioning the other elements into two sub-arrays according to whether they are less than or greater than the pivot. The sub-arrays are then sorted recursively. This can be done in-place, requiring small additional amounts of memory to perform the sorting.\n",
    "\n",
    "- Not Stable\n",
    "\n",
    "Time Complexity: O(n log n) in average case, O(n^2) in worst case\n"
   ]
  },
  {
   "cell_type": "code",
   "execution_count": 22,
   "metadata": {},
   "outputs": [],
   "source": [
    "def quickSort(list,l,r)->list:  #L[l:r]\n",
    "    if(r-l<=1):\n",
    "        return(list)\n",
    "    \n",
    "    pivot,lower,upper=l,l+1,l+1\n",
    "    for i in range(l+1,r):\n",
    "        if list[i]>list[pivot]:\n",
    "            #extend upper segment\n",
    "            upper+=1\n",
    "        else:\n",
    "            #Exchange list[i] with start of upper segment\n",
    "            list[i],list[lower]=list[lower],list[i]\n",
    "            #shift both the segments\n",
    "            lower+=1\n",
    "            upper+=1\n",
    "    \n",
    "    # Move pivot bw lower & upper\n",
    "    list[l],list[lower-1]=list[lower-1],list[l]\n",
    "    lower-=1\n",
    "\n",
    "    #Recursive Call\n",
    "    quickSort(list,l,lower)\n",
    "    quickSort(list,lower+1,r)\n",
    "    return(list)    \n"
   ]
  },
  {
   "cell_type": "markdown",
   "metadata": {},
   "source": [
    "### Time Testing"
   ]
  },
  {
   "cell_type": "code",
   "execution_count": 23,
   "metadata": {},
   "outputs": [],
   "source": [
    "from L007_TIMER import Timer\n",
    "\n",
    "#Random List for testing with 5000 elements\n",
    "import random\n",
    "random.seed(2024)\n",
    "inputlists={}\n",
    "inputlists[\"random\"]=[random.randrange(100000) for i in range(5000)]\n",
    "inputlists[\"ascending\"]=[i for i in range(5000)]\n",
    "inputlists[\"descending\"]=[i for i in range(4999,-1,-1)]\n",
    "\n"
   ]
  },
  {
   "cell_type": "code",
   "execution_count": 24,
   "metadata": {},
   "outputs": [],
   "source": [
    "# Increasing Recursion Limit Else We will get \"RecursionError: maximum recursion depth exceeded\" Error\n",
    "import sys\n",
    "sys.setrecursionlimit(2**31-1)\n",
    "# This is the highest limit that python allows\n"
   ]
  },
  {
   "cell_type": "markdown",
   "metadata": {},
   "source": [
    "#### Selection Sort"
   ]
  },
  {
   "cell_type": "code",
   "execution_count": 25,
   "metadata": {},
   "outputs": [
    {
     "name": "stdout",
     "output_type": "stream",
     "text": [
      "random 1.6067436000003\n",
      "ascending 1.6865521999998236\n",
      "descending 1.630838699999913\n"
     ]
    }
   ],
   "source": [
    "t=Timer()\n",
    "for k in inputlists.keys():\n",
    "    tmplist=inputlists[k][:]    #Makes Copy of list\n",
    "    t.start()\n",
    "    selection_sort(tmplist)\n",
    "    t.stop()\n",
    "    print(k,t)\n"
   ]
  },
  {
   "cell_type": "markdown",
   "metadata": {},
   "source": [
    "#### Insertion Sort"
   ]
  },
  {
   "cell_type": "markdown",
   "metadata": {},
   "source": [
    "##### Iterative"
   ]
  },
  {
   "cell_type": "code",
   "execution_count": 26,
   "metadata": {},
   "outputs": [
    {
     "name": "stdout",
     "output_type": "stream",
     "text": [
      "random 3.3712785999996413\n",
      "ascending 0.0009476000004724483\n",
      "descending 6.861260600000605\n"
     ]
    }
   ],
   "source": [
    "t=Timer()\n",
    "for k in inputlists.keys():\n",
    "    tmplist=inputlists[k][:]    #Makes Copy of list\n",
    "    t.start()\n",
    "    insertion_sort(tmplist)\n",
    "    t.stop()\n",
    "    print(k,t)\n"
   ]
  },
  {
   "cell_type": "markdown",
   "metadata": {},
   "source": [
    "##### Recursive"
   ]
  },
  {
   "cell_type": "code",
   "execution_count": 27,
   "metadata": {},
   "outputs": [],
   "source": [
    "#Decreasing List Size to 2000 Elements\n",
    "random.seed(2024)\n",
    "inputlists2={}\n",
    "inputlists2[\"random\"]=[random.randrange(100000) for i in range(2000)]\n",
    "inputlists2[\"ascending\"]=[i for i in range(2000)]\n",
    "inputlists2[\"descending\"]=[i for i in range(1999,-1,-1)]\n"
   ]
  },
  {
   "cell_type": "code",
   "execution_count": 28,
   "metadata": {},
   "outputs": [
    {
     "name": "stdout",
     "output_type": "stream",
     "text": [
      "random 22.894374399999833\n",
      "ascending 0.05562920000011218\n",
      "descending 33.52891569999974\n"
     ]
    }
   ],
   "source": [
    "t=Timer()\n",
    "for k in inputlists2.keys():\n",
    "    tmplist=inputlists2[k][:]    #Makes Copy of list\n",
    "    t.start()\n",
    "    insertion_sort_recursive(tmplist)\n",
    "    t.stop()\n",
    "    print(k,t)\n"
   ]
  },
  {
   "cell_type": "markdown",
   "metadata": {},
   "source": [
    "#### Merge Sort"
   ]
  },
  {
   "cell_type": "code",
   "execution_count": 29,
   "metadata": {},
   "outputs": [
    {
     "name": "stdout",
     "output_type": "stream",
     "text": [
      "random 0.044670899999800895\n",
      "ascending 0.02377509999951144\n",
      "descending 0.02133589999994001\n"
     ]
    }
   ],
   "source": [
    "t=Timer()\n",
    "for k in inputlists.keys():\n",
    "    tmplist=inputlists[k][:]    #Makes Copy of list\n",
    "    t.start()\n",
    "    merge_sort(tmplist)\n",
    "    t.stop()\n",
    "    print(k,t)\n"
   ]
  },
  {
   "cell_type": "code",
   "execution_count": 30,
   "metadata": {},
   "outputs": [],
   "source": [
    "# Increasing List Size to 1000000 Elements\n",
    "random.seed(2024)\n",
    "inputlists3={}\n",
    "inputlists3[\"random\"]=[random.randrange(100000000) for i in range(1000000)]\n",
    "inputlists3[\"ascending\"]=[i for i in range(1000000)]\n",
    "inputlists3[\"descending\"]=[i for i in range(999999,-1,-1)]\n"
   ]
  },
  {
   "cell_type": "code",
   "execution_count": 31,
   "metadata": {},
   "outputs": [
    {
     "name": "stdout",
     "output_type": "stream",
     "text": [
      "random 11.031615099999726\n",
      "ascending 6.084062800000538\n",
      "descending 6.728839999999764\n"
     ]
    }
   ],
   "source": [
    "t=Timer()\n",
    "for k in inputlists3.keys():\n",
    "    tmplist=inputlists3[k][:]    #Makes Copy of list\n",
    "    t.start()\n",
    "    merge_sort(tmplist)\n",
    "    t.stop()\n",
    "    print(k,t)\n"
   ]
  },
  {
   "cell_type": "markdown",
   "metadata": {},
   "source": [
    "#### Quick Sort"
   ]
  },
  {
   "cell_type": "code",
   "execution_count": 32,
   "metadata": {},
   "outputs": [
    {
     "name": "stdout",
     "output_type": "stream",
     "text": [
      "random 0.05583550000028481\n",
      "ascending 3.16523959999995\n",
      "descending 3.3906949000001987\n"
     ]
    }
   ],
   "source": [
    "t=Timer()\n",
    "for k in inputlists.keys():\n",
    "    tmplist=inputlists[k][:]    #Makes Copy of list\n",
    "    t.start()\n",
    "    quickSort(tmplist,0,len(tmplist))\n",
    "    t.stop()\n",
    "    print(k,t)\n"
   ]
  },
  {
   "cell_type": "code",
   "execution_count": 33,
   "metadata": {},
   "outputs": [
    {
     "name": "stdout",
     "output_type": "stream",
     "text": [
      "random 12.371580199999698\n"
     ]
    },
    {
     "ename": "KeyboardInterrupt",
     "evalue": "",
     "output_type": "error",
     "traceback": [
      "\u001b[1;31m---------------------------------------------------------------------------\u001b[0m",
      "\u001b[1;31mKeyboardInterrupt\u001b[0m                         Traceback (most recent call last)",
      "Cell \u001b[1;32mIn[33], line 5\u001b[0m\n\u001b[0;32m      3\u001b[0m tmplist\u001b[38;5;241m=\u001b[39minputlists3[k][:]    \u001b[38;5;66;03m#Makes Copy of list\u001b[39;00m\n\u001b[0;32m      4\u001b[0m t\u001b[38;5;241m.\u001b[39mstart()\n\u001b[1;32m----> 5\u001b[0m \u001b[43mquickSort\u001b[49m\u001b[43m(\u001b[49m\u001b[43mtmplist\u001b[49m\u001b[43m,\u001b[49m\u001b[38;5;241;43m0\u001b[39;49m\u001b[43m,\u001b[49m\u001b[38;5;28;43mlen\u001b[39;49m\u001b[43m(\u001b[49m\u001b[43mtmplist\u001b[49m\u001b[43m)\u001b[49m\u001b[43m)\u001b[49m\n\u001b[0;32m      6\u001b[0m t\u001b[38;5;241m.\u001b[39mstop()\n\u001b[0;32m      7\u001b[0m \u001b[38;5;28mprint\u001b[39m(k,t)\n",
      "Cell \u001b[1;32mIn[22], line 23\u001b[0m, in \u001b[0;36mquickSort\u001b[1;34m(list, l, r)\u001b[0m\n\u001b[0;32m     21\u001b[0m \u001b[38;5;66;03m#Recursive Call\u001b[39;00m\n\u001b[0;32m     22\u001b[0m quickSort(\u001b[38;5;28mlist\u001b[39m,l,lower)\n\u001b[1;32m---> 23\u001b[0m \u001b[43mquickSort\u001b[49m\u001b[43m(\u001b[49m\u001b[38;5;28;43mlist\u001b[39;49m\u001b[43m,\u001b[49m\u001b[43mlower\u001b[49m\u001b[38;5;241;43m+\u001b[39;49m\u001b[38;5;241;43m1\u001b[39;49m\u001b[43m,\u001b[49m\u001b[43mr\u001b[49m\u001b[43m)\u001b[49m\n\u001b[0;32m     24\u001b[0m \u001b[38;5;28;01mreturn\u001b[39;00m(\u001b[38;5;28mlist\u001b[39m)\n",
      "Cell \u001b[1;32mIn[22], line 23\u001b[0m, in \u001b[0;36mquickSort\u001b[1;34m(list, l, r)\u001b[0m\n\u001b[0;32m     21\u001b[0m \u001b[38;5;66;03m#Recursive Call\u001b[39;00m\n\u001b[0;32m     22\u001b[0m quickSort(\u001b[38;5;28mlist\u001b[39m,l,lower)\n\u001b[1;32m---> 23\u001b[0m \u001b[43mquickSort\u001b[49m\u001b[43m(\u001b[49m\u001b[38;5;28;43mlist\u001b[39;49m\u001b[43m,\u001b[49m\u001b[43mlower\u001b[49m\u001b[38;5;241;43m+\u001b[39;49m\u001b[38;5;241;43m1\u001b[39;49m\u001b[43m,\u001b[49m\u001b[43mr\u001b[49m\u001b[43m)\u001b[49m\n\u001b[0;32m     24\u001b[0m \u001b[38;5;28;01mreturn\u001b[39;00m(\u001b[38;5;28mlist\u001b[39m)\n",
      "    \u001b[1;31m[... skipping similar frames: quickSort at line 23 (5844 times)]\u001b[0m\n",
      "Cell \u001b[1;32mIn[22], line 23\u001b[0m, in \u001b[0;36mquickSort\u001b[1;34m(list, l, r)\u001b[0m\n\u001b[0;32m     21\u001b[0m \u001b[38;5;66;03m#Recursive Call\u001b[39;00m\n\u001b[0;32m     22\u001b[0m quickSort(\u001b[38;5;28mlist\u001b[39m,l,lower)\n\u001b[1;32m---> 23\u001b[0m \u001b[43mquickSort\u001b[49m\u001b[43m(\u001b[49m\u001b[38;5;28;43mlist\u001b[39;49m\u001b[43m,\u001b[49m\u001b[43mlower\u001b[49m\u001b[38;5;241;43m+\u001b[39;49m\u001b[38;5;241;43m1\u001b[39;49m\u001b[43m,\u001b[49m\u001b[43mr\u001b[49m\u001b[43m)\u001b[49m\n\u001b[0;32m     24\u001b[0m \u001b[38;5;28;01mreturn\u001b[39;00m(\u001b[38;5;28mlist\u001b[39m)\n",
      "Cell \u001b[1;32mIn[22], line 9\u001b[0m, in \u001b[0;36mquickSort\u001b[1;34m(list, l, r)\u001b[0m\n\u001b[0;32m      6\u001b[0m \u001b[38;5;28;01mfor\u001b[39;00m i \u001b[38;5;129;01min\u001b[39;00m \u001b[38;5;28mrange\u001b[39m(l\u001b[38;5;241m+\u001b[39m\u001b[38;5;241m1\u001b[39m,r):\n\u001b[0;32m      7\u001b[0m     \u001b[38;5;28;01mif\u001b[39;00m \u001b[38;5;28mlist\u001b[39m[i]\u001b[38;5;241m>\u001b[39m\u001b[38;5;28mlist\u001b[39m[pivot]:\n\u001b[0;32m      8\u001b[0m         \u001b[38;5;66;03m#extend upper segment\u001b[39;00m\n\u001b[1;32m----> 9\u001b[0m         upper\u001b[38;5;241m+\u001b[39m\u001b[38;5;241m=\u001b[39m\u001b[38;5;241m1\u001b[39m\n\u001b[0;32m     10\u001b[0m     \u001b[38;5;28;01melse\u001b[39;00m:\n\u001b[0;32m     11\u001b[0m         \u001b[38;5;66;03m#Exchange list[i] with start of upper segment\u001b[39;00m\n\u001b[0;32m     12\u001b[0m         \u001b[38;5;28mlist\u001b[39m[i],\u001b[38;5;28mlist\u001b[39m[lower]\u001b[38;5;241m=\u001b[39m\u001b[38;5;28mlist\u001b[39m[lower],\u001b[38;5;28mlist\u001b[39m[i]\n",
      "\u001b[1;31mKeyboardInterrupt\u001b[0m: "
     ]
    }
   ],
   "source": [
    "t=Timer()\n",
    "for k in inputlists3.keys():\n",
    "    tmplist=inputlists3[k][:]    #Makes Copy of list\n",
    "    t.start()\n",
    "    quickSort(tmplist,0,len(tmplist))\n",
    "    t.stop()\n",
    "    print(k,t)\n"
   ]
  }
 ],
 "metadata": {
  "kernelspec": {
   "display_name": "Python 3",
   "language": "python",
   "name": "python3"
  },
  "language_info": {
   "codemirror_mode": {
    "name": "ipython",
    "version": 3
   },
   "file_extension": ".py",
   "mimetype": "text/x-python",
   "name": "python",
   "nbconvert_exporter": "python",
   "pygments_lexer": "ipython3",
   "version": "3.12.6"
  }
 },
 "nbformat": 4,
 "nbformat_minor": 2
}
